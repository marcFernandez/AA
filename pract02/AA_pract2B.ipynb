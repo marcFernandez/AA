{
 "cells": [
  {
   "cell_type": "markdown",
   "metadata": {},
   "source": [
    "<div style=\"padding:30px; color: white; background-color: #0071CD\">\n",
    "<center>\n",
    "<img src=\"img/logoub.jpeg\"></img>\n",
    "<center>\n",
    "<p>\n",
    "<h1>Algorísmica Avançada</h1>\n",
    "<h2>Pràctica 2.B - Dynamic Programming </h2>\n",
    "</center>\n",
    "</p>\n",
    "</div>"
   ]
  },
  {
   "cell_type": "markdown",
   "metadata": {},
   "source": [
    "En esta sesión de programación dinámica veremos únicamente un algoritmo de procesamiento de imágenes. En este notebook se incluyen muchos conceptos que puede que os suenen extraños a día de hoy, sobretodo si no se ha visto tratamiento de imágenes. Independientemente, la única parte del algoritmo que se os pide impementar es aquella que contiene de forma explicita la programación dinámica, así que solo nos hace falta ver la imágen como una matriz de valores y de esta forma podremos trabajar con ella sin demasiado problema."
   ]
  },
  {
   "cell_type": "markdown",
   "metadata": {},
   "source": [
    "## 0 Conceptos esenciales\n",
    "\n",
    "1. __Imágen__: Aunque existen diversas representaciones de una imágen a nivel informático, nosotros trabajaremos con la representación RGB, en la que una imágen de $m \\times n$ pixeles se representa con una matriz de $m \\times n \\times 3$ (Una capa para Red, otra para Green y otra para Blue)\n",
    "<img src=\"./img/rgb.png\" width=50%>\n",
    "\n",
    "2. __Gradiente de una imágen__: El gradiente de una imágen es, intuitivamente el valor puntual de la derivada de la imágen en un punto concreto. De forma mas sencilla, el gradiente de una imágen muestra cuanto de diferente es el valor de un pixel respecto a los elementos adyacentes. En una zona en la que el gradiente sea bajo se tratará de una zona homogenea, y una zona de gradiente alto suele indicar un borde.\n",
    "<img src=\"./img/grad.png\" width=50%>"
   ]
  },
  {
   "cell_type": "markdown",
   "metadata": {},
   "source": [
    "## 1 Seam Carving\n",
    "El algoritmo Seam Carving es un algoritmo que nos permite redimensionar imágenes teniendo en cuenta el contenido de la misma.\n",
    "\n",
    "![Seam Carving](./img/seamcarving.jpg )\n",
    "\n",
    "El método consite en lo siguiente, dada una imágen cualquiera:\n",
    "![](./img/sc0.png)\n",
    "1. Calcular el gradiente vertical de la imágen en valor absoluto\n",
    "![](./img/sc1.png)\n",
    "2. Computo de todos los posibles caminos mínimos\n",
    "![](./img/sc2.png)\n",
    "3. Obtener el camino mínimo\n",
    "![](./img/sc3.png)\n",
    "4. Eliminar el camino mínimo\n",
    "  "
   ]
  },
  {
   "cell_type": "code",
   "execution_count": null,
   "metadata": {},
   "outputs": [],
   "source": [
    "#matplotlib notebook\n",
    "import numpy as np\n",
    "import matplotlib.pyplot as plt\n",
    "import scipy.ndimage as nd\n",
    "from skimage import color, data, restoration\n",
    "from seam_carving_util import rgb2gray, norm, top3, del_path, min_at, min_path_find, mark_path"
   ]
  },
  {
   "cell_type": "markdown",
   "metadata": {},
   "source": [
    "### 1.1 Caminos mínimos\n",
    "\n",
    "Para simplficar el ejercicio lo máximo posible los apartados 1 y 4 ya están implementados, de forma que lo único que tendréis que hacer será el __2 y el 3__ en el cual tendremos que crear una matriz del mismo tamaño de la imágen utilizando la siguiente formulación:\n",
    "\n",
    "Sean $I$ la imagen inicial y $D$ la imagen generada utilizando Dynamic Programming:\n",
    "\n",
    "$D_{i,j} = I_{i,j}+\\min\\Big[D_{i-1, j-1},\\quad D_{i-1, j},\\quad D_{i-1,j+1}\\Big]$\n",
    "\n",
    "Intuitivamente, calculamos $D_{i,j}$ como la suma de $I_{i,j}$ y el valor mínimo de los tres elementos superiores. Una vez calculada, buscaremos el camino mínimo para proceder a su eliminación."
   ]
  },
  {
   "cell_type": "code",
   "execution_count": null,
   "metadata": {},
   "outputs": [],
   "source": [
    "%matplotlib inline\n",
    "## Carga la imágen en memória\n",
    "print(\"0. Carga la imágen original\")\n",
    "im = plt.imread('img/beach.jpg')/255.\n",
    "plt.imshow(im)\n",
    "plt.show()\n",
    "\n",
    "## Aplica un filtro de Sobel para calcular el gradiente\n",
    "print(\"1. Calcula el gradiente vertical de la imágen\")\n",
    "dx = nd.sobel(rgb2gray(im), 0)\n",
    "plt.imshow(np.abs(dx), cmap='gray')\n",
    "plt.show()"
   ]
  },
  {
   "cell_type": "code",
   "execution_count": null,
   "metadata": {},
   "outputs": [],
   "source": [
    "def min_path_find(mat):\n",
    "    # Dada la matriz de caminos, encuentra y devuelve el mínimo\n",
    "\n",
    "def dynamic_programming(mat):\n",
    "    # Crea una matriz del mismo tamaño que la matriz original\n",
    "    ret = np.zeros(mat.shape)\n",
    "    # x,y son el tamaño de la matriz original\n",
    "    [x, y] = mat.shape\n",
    "    \n",
    "    \"\"\"\n",
    "    Se pueden utilizar las funciones importadas del archivo seam_carving_util.py que son:\n",
    "    - top3: obtiene los tres elementos superiores de un punto en la matriz\n",
    "    - min_at: obtiene la posición del elemento mas pequeño de un array\n",
    "    \n",
    "    Tu código aquí\n",
    "    \"\"\"\n",
    "    # Construir la matriz de caminos\n",
    "    \n",
    "    return ret, min_path_find(ret)"
   ]
  },
  {
   "cell_type": "code",
   "execution_count": null,
   "metadata": {},
   "outputs": [],
   "source": [
    "## Calcula la matriz de programación dinámica\n",
    "print(\"2 y 3. Computo de todos los posibles caminos mínimos y búsqueda del mínimo definitivo.\")\n",
    "tmp, path = dynamic_programming(np.abs(dx))\n",
    "plt.imshow(tmp, cmap='gray')\n",
    "plt.show()\n",
    "\n",
    "# Elimina el camino de la imágen y guardala en \"updated\"\n",
    "updated = del_path(im, path)\n",
    "# Muestra el camino eliminado sobre la imágen original\n",
    "plt.imshow(mark_path(im, path))\n",
    "plt.show()\n",
    "\n",
    "# Elimina el camino\n",
    "print(\"4. Elimina el camino mínimo\")\n",
    "new = del_path(tmp, path)\n",
    "plt.imshow(new)\n",
    "plt.show()\n",
    "\n",
    "# Realiza los pasos anteriores de manera it"
   ]
  },
  {
   "cell_type": "markdown",
   "metadata": {},
   "source": [
    "### 1.2 Eliminando zonas concretas de una imágen\n",
    "\n",
    "Ahora suponed que, en lugar de eliminar el camino mínimo de una imágen queremos eliminar un elemento de la imagen sin que se note. Tomad como ejemplo las siguientes dos imágenes.\n",
    "\n",
    "![](./img/agbar_a.png)\n",
    "![](./img/agbar_b.jpg)\n",
    "\n",
    "Alguna idea de como obtener este resultado?"
   ]
  },
  {
   "cell_type": "code",
   "execution_count": null,
   "metadata": {},
   "outputs": [],
   "source": [
    "\"\"\"\n",
    "Para que funcionen los siguientes bloques de código, es probable que tengáis que reiniciar el kernel.\n",
    "Aquí obtenemos las coordenadas de una imágen obteniendo los clicks del usuario sobre esta.\n",
    "\"\"\"\n",
    "\n",
    "import numpy as np\n",
    "import matplotlib.pyplot as plt\n",
    "import matplotlib\n",
    "%matplotlib notebook\n",
    "\n",
    "beach = plt.imread('./img/beach.jpg')\n",
    "coords = []\n",
    "\n",
    "def onclick(event):\n",
    "    global ix, iy\n",
    "    ix, iy = event.xdata, event.ydata\n",
    "    print ('x = %d, y = %d'%(\n",
    "        ix, iy))\n",
    "\n",
    "    global coords\n",
    "    coords.append((int(ix), int(iy)))\n",
    "\n",
    "    if len(coords) == 2:\n",
    "        fig.canvas.mpl_disconnect(cid)\n",
    "\n",
    "    return coords\n",
    "\n",
    "\n",
    "fig = plt.figure()\n",
    "ax = fig.add_subplot(111)\n",
    "plt.imshow(beach)\n",
    "cid = fig.canvas.mpl_connect('button_press_event', onclick)"
   ]
  },
  {
   "cell_type": "code",
   "execution_count": null,
   "metadata": {},
   "outputs": [],
   "source": [
    "# Ahora le asignamos un peso a la imágen equivalente a 0 en cada uno de los puntos de dentro del cuadrado mínimo\n",
    "print(coords)\n",
    "\n",
    "def remove_pixels(img, coords):\n",
    "    img.setflags(write=1)\n",
    "    coords = [(min(coords[0][0], coords[1][0]), min(coords[0][1], coords[1][1])), \n",
    "              (max(coords[0][0], coords[1][0]), max(coords[0][1], coords[1][1]))]\n",
    "    img[coords[0][1]:coords[1][1], coords[0][0]:coords[1][0], :] = 0\n",
    "    return img\n",
    "\n",
    "\n",
    "new =remove_pixels(beach, coords)\n",
    "plt.figure()\n",
    "plt.imshow(new)"
   ]
  },
  {
   "cell_type": "code",
   "execution_count": null,
   "metadata": {},
   "outputs": [],
   "source": [
    "\"\"\"\n",
    "Implementa las modificaciones necesarias para conseguir eliminar una zona concreta de la imágen.\n",
    "\"\"\"\n"
   ]
  },
  {
   "cell_type": "markdown",
   "metadata": {},
   "source": [
    "<div class=\"alert alert-info\">\n",
    "<center>\n",
    "  <h1>Entrega</h1>\n",
    "</center>\n",
    "<p>\n",
    "La entrega de esta práctica (junto a la de greedy) se podrá realizar en el campus virtual hasta el día __25 de Noviembre a las 23:55__. En la tarea que se habilitará en el campus deberéis colgar __un archivo .zip__ que contenga __únicamente__ los notebooks de las dos prácticas siguiendo la siguiente nomenclatura:\n",
    "</p>\n",
    "<p>\n",
    "```\n",
    "*AA_P2_<apellido1>_<apellido2>_<nombre>.zip\n",
    "|___* AA_PD_<apellido1>_<apellido2>_<nombre>.ipynb\n",
    "|___* AA_Greedy_<apellido1>_<apellido2>_<nombre>.ipynb\n",
    "```\n",
    "\n",
    "</p>\n",
    "<p>\n",
    "Por ejemplo:\n",
    "</p>\n",
    "<p>\n",
    "```\n",
    "AA_P2_Doe_Ritchie_John.zip\n",
    "```\n",
    "\n",
    "</p>\n",
    "<p>\n",
    "\n",
    "Es fundamental que el código esté bién comentado y con un análisis de complejidad exhaustivo del algoritmo.También resulta de gran importancia que la entrega siga el formato indicado. \n",
    "</p>\n",
    "</div>"
   ]
  }
 ],
 "metadata": {
  "kernelspec": {
   "display_name": "Python 3",
   "language": "python",
   "name": "python3"
  },
  "language_info": {
   "codemirror_mode": {
    "name": "ipython",
    "version": 3
   },
   "file_extension": ".py",
   "mimetype": "text/x-python",
   "name": "python",
   "nbconvert_exporter": "python",
   "pygments_lexer": "ipython3",
   "version": "3.6.6"
  }
 },
 "nbformat": 4,
 "nbformat_minor": 1
}
