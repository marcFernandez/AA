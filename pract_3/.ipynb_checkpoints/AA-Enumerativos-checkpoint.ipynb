{
 "cells": [
  {
   "cell_type": "markdown",
   "metadata": {},
   "source": [
    "<div style=\"padding:30px; color: white; background-color: #0071CD\">\n",
    "<center>\n",
    "<img src=\"img/logoub.jpeg\"></img>\n",
    "<center>\n",
    "<p>\n",
    "<h1>Algorísmica Avançada</h1>\n",
    "<h2>Práctica 3 - Enumerativos </h2>\n",
    "</center>\n",
    "</p>\n",
    "</div>"
   ]
  },
  {
   "cell_type": "markdown",
   "metadata": {},
   "source": [
    "<div class=\"alert alert-info\">\n",
    "<center>\n",
    "  <h1>Introducción</h1>\n",
    "</center>\n",
    "</div>"
   ]
  },
  {
   "cell_type": "markdown",
   "metadata": {},
   "source": [
    "En ésta práctica utilizaremos el concepto de ramificación y poda para la resolución del siguiente problema.\n",
    "\n",
    "La construcción de un artefacto requiere ensamblar $M$ piezas que identiﬁcamos con números entre $1$ y $M$. El coste de ensamblar la pieza $i$ depende del número de piezas ya ensambladas. Los costes, que son valores positivos, se nos proporcionan en una matriz $C$. La celda $c_{ij}$ es el coste de ensamblar la pieza $i$ cuando ya se han ensamblado $j$ piezas. Deseamos calcular el orden de ensamblado de menor coste total, entendido éste como la suma del coste de ensamblaje de cada una de las piezas. "
   ]
  },
  {
   "cell_type": "markdown",
   "metadata": {},
   "source": [
    "<div class=\"alert alert-info\">\n",
    "<center>\n",
    "  <h1>Contenido</h1>\n",
    "  </center><p>\n",
    "    </p></div>\n",
    "\n"
   ]
  },
  {
   "cell_type": "markdown",
   "metadata": {},
   "source": [
    "\n",
    "<div class=\"alert alert-success\" style=\"width:90%; margin:0 auto;\">\n",
    "  <h2><p>Ramificación y poda: Problema del ensamblaje</p></h2>\n",
    "  \n",
    "  <div class=\"row\">\n",
    "  <div>\n",
    "  <p style=\"text-align: justify; padding-right: 30px\">\n",
    "  Implementa mediante ramificación y poda una solución al problema del ensamblaje con tal de encontrar el listado ordenado de piezas cuyo coste total de ensamblaje sea mínimo.\n",
    "  </p>\n",
    "  </div>\n",
    "    </div></div>\n"
   ]
  },
  {
   "cell_type": "markdown",
   "metadata": {},
   "source": [
    "<div class=\"alert alert-danger\" style=\"width:80%; margin:0 auto; padding\">\n",
    "<center><p><h3> Código </h3></p> </center> \n",
    "\n",
    "<p>\n",
    "<h3>INPUT</h3>\n",
    "<ul>\n",
    "<li>C: Matriz de costes de tamaño $M\\times M$, donde M es el número de piezas. El elemento $i,j$ de la matriz representa el coste de ensamblaje para la pieza $i$ tras haber colocado $j$ piezas. \n",
    "</li>\n",
    "</ul>\n",
    "<br>\n",
    "<h3>OUTPUT</h3>\n",
    "Lista de números de $1$ a $M$ ordenados de forma que el coste total de ensamblaje sea mínimo. Ej: [5, 3, 2, 4, 1]\n",
    "</p>\n",
    "\n",
    "</div>"
   ]
  },
  {
   "cell_type": "code",
   "execution_count": 8,
   "metadata": {},
   "outputs": [
    {
     "name": "stdout",
     "output_type": "stream",
     "text": [
      "{0: {1: 2, 2: 3, 3: 4, 4: 5}, 2: {5: 4, 4: 3, 3: 2, 2: 1}}\n",
      "3 4\n",
      "[1, 2, 4, 5, 6, 7, 8, 9]\n"
     ]
    }
   ],
   "source": [
    "a = [1,2,3,4,5,6,7,8,9]\n",
    "b = {0:{1:2,2:3,3:4,4:5},2:{5:4,4:3,3:2,2:1},1:{5:4,4:3,3:2,2:1}}\n",
    "b.pop(1)\n",
    "print(b)\n",
    "w = 3\n",
    "r = w\n",
    "w = 4\n",
    "print(r,w)\n",
    "a.remove(3)\n",
    "print(a)"
   ]
  },
  {
   "cell_type": "code",
   "execution_count": 11,
   "metadata": {},
   "outputs": [],
   "source": [
    "def branch_bound(C):\n",
    "    \n",
    "    items = []\n",
    "    cota_inf, cota_sup, total = 0,0,0\n",
    "    cua, soluc = [],[]\n",
    "    \n",
    "    for i in range(len(C)):\n",
    "        cota_sup += C[i][i]\n",
    "        # [[(i,C[i][0])],C[i][0]]\n",
    "        cua.insert(0,[[i],C[i][0],[j for j in range(len(C)) if j!=i]])\n",
    "\n",
    "    while(cua):\n",
    "        \n",
    "        current = cua.pop(0)\n",
    "        \n",
    "        if len(current[0])==len(C):\n",
    "            print(current[0],current[1])\n",
    "            if current[1]<cota_sup:\n",
    "                cota_sup=current[1]\n",
    "                soluc = current[0]\n",
    "        \n",
    "        for i in current[2]:\n",
    "            idx = len(current[0])\n",
    "            if current[1]+C[i][idx]<cota_sup:\n",
    "                temp = current[2].copy()\n",
    "                temp.remove(i)\n",
    "                cua.insert(0,[current[0]+[i],current[1]+C[i][idx],temp])\n",
    "                #print('afegeixo',[current[0]+[i],current[1]+C[i][idx],temp])\n",
    "        \n",
    "    return soluc"
   ]
  },
  {
   "cell_type": "code",
   "execution_count": 15,
   "metadata": {},
   "outputs": [
    {
     "name": "stdout",
     "output_type": "stream",
     "text": [
      "[9, 8, 7, 6, 5, 4, 3, 2, 1, 0] 97\n",
      "[9, 8, 7, 6, 5, 4, 3, 0, 2, 1] 89\n",
      "[9, 8, 7, 6, 5, 4, 2, 3, 1, 0] 86\n",
      "[9, 8, 7, 6, 5, 4, 2, 0, 1, 3] 70\n",
      "[9, 8, 7, 3, 5, 4, 2, 6, 1, 0] 68\n",
      "[9, 8, 7, 0, 5, 6, 2, 4, 1, 3] 59\n",
      "[9, 8, 7, 0, 5, 4, 2, 6, 1, 3] 57\n",
      "[9, 8, 6, 0, 5, 7, 2, 4, 1, 3] 47\n",
      "[9, 7, 8, 0, 5, 6, 2, 4, 1, 3] 44\n",
      "[9, 7, 8, 0, 5, 4, 2, 6, 1, 3] 42\n",
      "[8, 7, 6, 0, 5, 9, 2, 4, 1, 3] 37\n",
      "[8, 7, 6, 0, 5, 4, 2, 9, 1, 3] 36\n",
      "[8, 7, 6, 0, 5, 4, 2, 9, 1, 3]\n"
     ]
    }
   ],
   "source": [
    "from random import randint\n",
    "import random\n",
    "random.seed(0)\n",
    "M = 10 # Número de piezas\n",
    "# Matriz de costes generada aleatoriamente\n",
    "C = {}\n",
    "for i in range(M):\n",
    "    C[i] = {}\n",
    "    for j in range(M):\n",
    "        C[i][j] = randint(1, 25)\n",
    "\n",
    "solucion = branch_bound(C)\n",
    "print(solucion)"
   ]
  },
  {
   "cell_type": "markdown",
   "metadata": {},
   "source": [
    "<div class=\"alert alert-danger\" style=\"width:80%; margin:0 auto; padding\">\n",
    "<center><p><h3> Comentarios </h3></p> </center> \n",
    "\n",
    "</div>"
   ]
  },
  {
   "cell_type": "markdown",
   "metadata": {},
   "source": [
    "### En esta sección debéis responder a las preguntas siguientes:\n",
    "#### 1. Explica cómo has realizado tu implementación, enfatizando en la heurística empleada.\n",
    "DFS de dreta a esquerra, inicialitzant una cota amb la suma de valors de la diagonal i actualitzant-la cada cop que arribem a una solució de cost menor a aquesta. També fem prunning de una branca si el cost passa aquesta cota.\n",
    "#### 2. Análisis de complejidad de la implementación"
   ]
  },
  {
   "cell_type": "markdown",
   "metadata": {},
   "source": [
    "<div class=\"alert alert-info\">\n",
    "<center>\n",
    "  <h1>Entrega</h1>\n",
    "</center>\n",
    "\n",
    "<p>\n",
    "La entrega tiene que consistir en un solo fichero **.ipynb** con el nombre: *Apellido1_Apellido2*_*Nombre*_ASS3.ipyn\n",
    "</p>\n",
    "</div>"
   ]
  },
  {
   "cell_type": "code",
   "execution_count": null,
   "metadata": {},
   "outputs": [],
   "source": [
    "print('hola')"
   ]
  },
  {
   "cell_type": "code",
   "execution_count": null,
   "metadata": {},
   "outputs": [],
   "source": []
  }
 ],
 "metadata": {
  "kernelspec": {
   "display_name": "Python 3",
   "language": "python",
   "name": "python3"
  },
  "language_info": {
   "codemirror_mode": {
    "name": "ipython",
    "version": 3
   },
   "file_extension": ".py",
   "mimetype": "text/x-python",
   "name": "python",
   "nbconvert_exporter": "python",
   "pygments_lexer": "ipython3",
   "version": "3.6.7"
  }
 },
 "nbformat": 4,
 "nbformat_minor": 1
}
