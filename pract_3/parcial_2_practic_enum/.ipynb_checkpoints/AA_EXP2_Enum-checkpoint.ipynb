{
 "cells": [
  {
   "cell_type": "markdown",
   "metadata": {},
   "source": [
    "<div style=\"padding:30px; color: white; background-color: #0071CD\">\n",
    "<center>\n",
    "<img src=\"img/logoub.jpeg\"></img>\n",
    "<center>\n",
    "<p>\n",
    "<h1>Algorísmica Avançada</h1>\n",
    "<h2>Parcial Práctico 2 - Enumerativos </h2>\n",
    "</center>\n",
    "</p>\n",
    "</div>"
   ]
  },
  {
   "cell_type": "markdown",
   "metadata": {},
   "source": [
    "<div class=\"alert alert-success\" style=\"width:90%; margin:0 auto;\">\n",
    "\n",
    "  <h2><p>Saltos de caballo</p></h2>\n",
    "  \n",
    "  <p>\n",
    " En el ajedrez, un caballo se mueve en forma de \"L\" en cualquier dirección posible. Es decir, se mueve en línea recta 2 posiciones y luego 1 más a izquierda o derecha. Todos los movimientos posibles de un caballo en una posición dada puden verse en la siguiente imagen:\n",
    "\n",
    "<p><center><img src='img/horse_moves.jpg' width=30%></img></center></p>\n",
    "\n",
    "<p>El examen consta de un único ejercicio en el cual tendréis que implementar un algoritmo de ramificación y poda (recursivo o iterativo) que, dado un tablero de tamaño $n \\times n$ y un número de casillas $C$, devuelva el recorrido de caballo más corto que pasa por $C$ casillas diferentes (contando la inicial, la cual es el tercer parámetro de la función).\n",
    "</p>\n",
    "\n",
    "Os damos ya implementada la clase HorseState. Podéis modificar la clase como considréis necesario o podéis incluir otras funciones de interés para la resolución del problema. Si empleáis alguna variable global recordad que es necesario declararlas dentro de las funciones como <i>global</i> en caso de que queramos modificarlas. Por ejemplo:\n",
    "\n",
    "```\n",
    "global_variable = 0\n",
    "\n",
    "def function_that_reads_global_var(param):\n",
    "    if global_variable > param:\n",
    "        print(\"It is greater!\")\n",
    "\n",
    "def function_that_modifies_global_var(param):\n",
    "    global global_variable # OJO!\n",
    "    if global_variable > param:\n",
    "        global_variable = param\n",
    "```\n",
    "\n",
    "Por último, también os pedimos que retornéis la cantidad de estados que ha sido necesario explorar hasta encontrar la solución óptima.\n"
   ]
  },
  {
   "cell_type": "code",
   "execution_count": 7,
   "metadata": {},
   "outputs": [],
   "source": [
    "# La función deepcopy(x) retorna una copia del objeto x \n",
    "# de manera que lo podemos modificar sin que afecte al original\n",
    "from copy import deepcopy\n",
    "\n",
    "# Os damos la clase HorseState como base para que realicéis vuestro trabajo\n",
    "class HorseState:\n",
    "    def __init__(self,N,S,C,sol=None,value=0):\n",
    "        self.size = N # Tamaño del tablero\n",
    "        self.objective = C # Número de celdas distintas a visitar\n",
    "        self.sol = sol if sol else [S]  # Camino construido hasta ahora, la posición actual del caballo es self.sol[-1]\n",
    "        self.value = value + 1 # Peso total de la solución (equivalente a len(self.sol))\n",
    "    \n",
    "    # Devuelve las posiciones accesibles para un caballo desde la celda actual (la última añadida a la solución).\n",
    "    def possible_next(self):\n",
    "        (x,y) = self.sol[-1]\n",
    "        possible = []\n",
    "        if x < self.size and y < self.size:\n",
    "            if x-2 >= 0:\n",
    "                if y-1 >= 0:\n",
    "                    possible.append((x-2,y-1))\n",
    "                if y+1 < self.size:\n",
    "                    possible.append((x-2,y+1))\n",
    "            if x+2 < self.size:\n",
    "                if y-1 >= 0:\n",
    "                    possible.append((x+2,y-1))\n",
    "                if y+1 < self.size:\n",
    "                    possible.append((x+2,y+1))\n",
    "            if y-2 >= 0:\n",
    "                if x-1 >= 0:\n",
    "                    possible.append((x-1,y-2))\n",
    "                if x+1 < self.size:\n",
    "                    possible.append((x+1,y-2))\n",
    "            if y+2 < self.size:\n",
    "                if x-1 >= 0:\n",
    "                    possible.append((x-1,y+2))\n",
    "                if x+1 < self.size:\n",
    "                    possible.append((x+1,y+2))\n",
    "        return possible\n",
    "    \n",
    "    # Devuelve un nuevo estado añadiendo la celda\n",
    "    def add_cell(self,cell):\n",
    "        #if not cell in self.sol:\n",
    "        return HorseState(self.size,self.sol[0],self.objective,self.sol+[cell],self.value)\n",
    "        #else:\n",
    "        #    return HorseState(self.size,self.sol[0],self.objective,self.sol,self.value)\n",
    "    \n",
    "    # LessThan compara el objeto actual con otro \n",
    "    # (lo utilizan clases como PriorityQueue o HeapQ para ordenar los objetos)\n",
    "    def __lt__(self,other):\n",
    "        return self.value < other.value\n",
    "    \n",
    "    # Convierte el objeto a string (para formatear los prints)\n",
    "    def __str__(self):\n",
    "        return str(self.sol) + \" \" + str(self.value)\n",
    "            "
   ]
  },
  {
   "cell_type": "code",
   "execution_count": 14,
   "metadata": {},
   "outputs": [],
   "source": [
    "'''\n",
    "Implementad aquí vuestra solución:\n",
    "@input:     N --> tamaño del tablero.\n",
    "            S --> posición inicial del caballo en forma de tupla.\n",
    "            C --> número de celdas diferentes a recorrer (como máximo N²).\n",
    "@output:    path --> Lista de celdas que representan el recorrido mínimo pasando por C celdas diferentes.\n",
    "            expanded --> Número de nodos explorados antes de encontrar la solución óptima.\n",
    "''' \n",
    "def min_horse_path(N,S,C):\n",
    "    H = HorseState(N,S,C)\n",
    "    \n",
    "    res,cota_sup,nodes = [],N**2+1,0\n",
    "    res.insert(0,H)\n",
    "    \n",
    "    while(res):\n",
    "        \n",
    "        current = res.pop(0)\n",
    "        nodes+=1\n",
    "        \n",
    "        if len(current.sol)==current.objective:\n",
    "            if current.value<cota_sup:\n",
    "                return current.sol,nodes\n",
    "                cota_sup = current.value\n",
    "                solucio = current.sol,nodes\n",
    "                # print(solucio,cota_sup)\n",
    "    \n",
    "        for possibleMov in current.possible_next():\n",
    "            if current.value+1<cota_sup and not possibleMov in current.sol:\n",
    "                res.insert(0,current.add_cell(possibleMov))\n",
    "    \n",
    "    return solucio"
   ]
  },
  {
   "cell_type": "code",
   "execution_count": 15,
   "metadata": {},
   "outputs": [
    {
     "name": "stdout",
     "output_type": "stream",
     "text": [
      "[(0, 0), (1, 2), (2, 4), (4, 3), (3, 1), (1, 0), (2, 2), (0, 3), (1, 1), (3, 0), (4, 2), (3, 4), (1, 3), (0, 1), (2, 0), (4, 1), (3, 3), (1, 4), (0, 2), (2, 1), (4, 0), (3, 2), (4, 4), (2, 3), (0, 4)] 74301\n",
      "--- 0.5582535266876221 seconds ---\n"
     ]
    }
   ],
   "source": [
    "import time\n",
    "start_time = time.time()\n",
    "path,n = min_horse_path(5,(0,0),25)\n",
    "t = time.time() - start_time\n",
    "assert len(path) == 25\n",
    "print(path,n)\n",
    "print(\"--- %s seconds ---\" % (t))"
   ]
  },
  {
   "cell_type": "markdown",
   "metadata": {},
   "source": [
    "<div class=\"alert alert-warning\" style=\"width:80%; margin:0 auto; padding\">\n",
    "<center><p><h3> Comentarios y análisis de complejidad</h3></p> </center> </div>"
   ]
  },
  {
   "cell_type": "markdown",
   "metadata": {},
   "source": [
    "<b> Explica brevemente la estrategia que has empleado para resolver el problema, enfatizando los mecanismos que reducen el espacio de búsqueda, y realiza el análisis de complejidad de tu algoritmo. </b>"
   ]
  },
  {
   "cell_type": "markdown",
   "metadata": {},
   "source": []
  },
  {
   "cell_type": "markdown",
   "metadata": {},
   "source": [
    "<div class=\"alert alert-info\">\n",
    "<center>\n",
    "  <h1>Entrega</h1>\n",
    "</center>\n",
    "<p>\n",
    "Tenéis 1h30m para resolver el ejercicio. Se habilitará una tarea en el Campus Virtual pasada media hora desde el comienzo del examen. Una vez terminéis, subid el examen a la tarea \"Segundo parcial de pácticas\" con vuestro nombre y el grupo de pácticas al que asistís:\n",
    "</p>\n",
    "<p>\n",
    "```\n",
    "AA_EXP2_<grupo_practicas>_<apellido1>_<apellido2>_<nombre>.ipynb\n",
    "```\n",
    "\n",
    "</p>\n",
    "<p>\n",
    "    Por ejemplo, para una tal <b>Marina Perez García</b> perteneciente al grupo <b>B</b> de prácticas, su archivo deberá llamarse:\n",
    "</p>\n",
    "<p>\n",
    "```\n",
    "AA_EXP2_B_Perez_Garcia_Marina.ipynb\n",
    "```\n",
    "\n",
    "</p><p>\n",
    "Nota:<b> NO ADHERIRSE AL FORMATO DEL NOMBRE PUEDE HACER QUE NOS OLVIDEMOS DE CORREGIR VUESTRO EXAMEN.</b></p>\n",
    "</div>"
   ]
  }
 ],
 "metadata": {
  "kernelspec": {
   "display_name": "Python 3",
   "language": "python",
   "name": "python3"
  },
  "language_info": {
   "codemirror_mode": {
    "name": "ipython",
    "version": 3
   },
   "file_extension": ".py",
   "mimetype": "text/x-python",
   "name": "python",
   "nbconvert_exporter": "python",
   "pygments_lexer": "ipython3",
   "version": "3.6.7"
  }
 },
 "nbformat": 4,
 "nbformat_minor": 2
}
